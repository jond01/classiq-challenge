{
 "cells": [
  {
   "cell_type": "markdown",
   "id": "193a10e9",
   "metadata": {},
   "source": [
    "# Understanding the `Exp` Operation\n",
    "\n",
    "The `Exp` operation calls the internal [`SpreadZ`](https://github.com/microsoft/qsharp-runtime/blob/70c881d8b93f290bca6145fb5fda28e5dbc57827/src/Simulation/TargetDefinitions/Decompositions/Utils.qs#L7-L16) operation:"
   ]
  },
  {
   "cell_type": "code",
   "execution_count": 3,
   "id": "a58e0715",
   "metadata": {},
   "outputs": [
    {
     "data": {
      "application/x-qsharp-data": "[\"SpreadZ\",\"ApplySpreadZ\"]",
      "text/html": [
       "<ul><li>SpreadZ</li><li>ApplySpreadZ</li></ul>"
      ],
      "text/plain": [
       "SpreadZ, ApplySpreadZ"
      ]
     },
     "execution_count": 3,
     "metadata": {},
     "output_type": "execute_result"
    }
   ],
   "source": [
    "operation SpreadZ(from : Qubit, to : Qubit[]) : Unit is Adj {\n",
    "    if (Length(to) > 0) {\n",
    "        CNOT(to[0], from);\n",
    "        if (Length(to) > 1) {\n",
    "            let half = Length(to) / 2;\n",
    "            SpreadZ(to[0], to[half + 1 .. Length(to) - 1]);\n",
    "            SpreadZ(from, to[1 .. half]);\n",
    "        }\n",
    "    }\n",
    "}\n",
    "\n",
    "\n",
    "operation ApplySpreadZ(n : Int) : Unit {\n",
    "    use (fromQubit, toReg) = (Qubit(), Qubit[n]);\n",
    "    SpreadZ(fromQubit, toReg);\n",
    "}"
   ]
  },
  {
   "cell_type": "code",
   "execution_count": 59,
   "id": "859f1307",
   "metadata": {},
   "outputs": [
    {
     "data": {
      "application/x-qsharp-data": "{\"Html\":\"<div id='execution-path-container-953ea0b3-7c77-4f30-8a5b-484eb9887b64' />\"}",
      "text/html": [
       "<div id='execution-path-container-953ea0b3-7c77-4f30-8a5b-484eb9887b64' />"
      ],
      "text/plain": [
       "Microsoft.Quantum.IQSharp.Jupyter.DisplayableHtmlElement"
      ]
     },
     "metadata": {},
     "output_type": "display_data"
    }
   ],
   "source": [
    "%trace ApplySpreadZ n=3"
   ]
  },
  {
   "cell_type": "markdown",
   "id": "7c1f376d",
   "metadata": {},
   "source": [
    "https://github.com/microsoft/qsharp-runtime/blob/2b82379d284a194a7b613641caca0e550c2db30d/src/Simulation/TargetDefinitions/Decompositions/Utils.qs#L18-L43"
   ]
  },
  {
   "cell_type": "code",
   "execution_count": 10,
   "id": "addb85c5",
   "metadata": {},
   "outputs": [
    {
     "data": {
      "application/x-qsharp-data": "[\"MapPauli\"]",
      "text/html": [
       "<ul><li>MapPauli</li></ul>"
      ],
      "text/plain": [
       "MapPauli"
      ]
     },
     "execution_count": 10,
     "metadata": {},
     "output_type": "execute_result"
    }
   ],
   "source": [
    "operation MapPauli (qubit : Qubit, from : Pauli, to : Pauli) : Unit is Adj {\n",
    "    if (from == to) {\n",
    "    }\n",
    "    elif ((from == PauliZ and to == PauliX) or (from == PauliX and to == PauliZ)) {\n",
    "        H(qubit);\n",
    "    }\n",
    "    elif (from == PauliZ and to == PauliY) {\n",
    "        H(qubit);\n",
    "        S(qubit);\n",
    "        H(qubit);\n",
    "    }\n",
    "    elif (from == PauliY and to == PauliZ) {\n",
    "        H(qubit);\n",
    "        Adjoint S(qubit);\n",
    "        H(qubit);\n",
    "    }\n",
    "    elif (from == PauliY and to == PauliX) {\n",
    "        S(qubit);\n",
    "    }\n",
    "    elif (from == PauliX and to == PauliY) {\n",
    "        Adjoint S(qubit);\n",
    "    }\n",
    "    else {\n",
    "        fail \"Unsupported input\";\n",
    "    }\n",
    "}"
   ]
  },
  {
   "cell_type": "markdown",
   "id": "08edd083",
   "metadata": {},
   "source": [
    "https://github.com/microsoft/qsharp-runtime/blob/21f5fab97682d9bc0ae8e3b58f679fdb952f1c24/src/Simulation/TargetDefinitions/Decompositions/ExpUtil.qs#L6-L26"
   ]
  },
  {
   "cell_type": "code",
   "execution_count": 67,
   "id": "9352ae8d",
   "metadata": {},
   "outputs": [
    {
     "data": {
      "application/x-qsharp-data": "[\"ExpZUtil\"]",
      "text/html": [
       "<ul><li>ExpZUtil</li></ul>"
      ],
      "text/plain": [
       "ExpZUtil"
      ]
     },
     "execution_count": 67,
     "metadata": {},
     "output_type": "execute_result"
    }
   ],
   "source": [
    "open Microsoft.Quantum.Intrinsic;\n",
    "\n",
    "operation ExpZUtil(theta : Double, qubits : Qubit[], rotation : ((Qubit) => Unit is Adj + Ctl)) : Unit is Ctl {\n",
    "    if (Length(qubits) == 1) {\n",
    "        rotation(qubits[0]);\n",
    "    }\n",
    "    else { // Length(paulis) > 1\n",
    "        within {\n",
    "            SpreadZ(qubits[0], qubits[ 1 .. Length(qubits) - 1]);\n",
    "        }\n",
    "        apply {\n",
    "            rotation(qubits[0]);\n",
    "        }\n",
    "    }\n",
    "}"
   ]
  },
  {
   "cell_type": "code",
   "execution_count": 69,
   "id": "2cb9c190",
   "metadata": {},
   "outputs": [
    {
     "data": {
      "application/x-qsharp-data": "[\"MyExpZ\"]",
      "text/html": [
       "<ul><li>MyExpZ</li></ul>"
      ],
      "text/plain": [
       "MyExpZ"
      ]
     },
     "execution_count": 69,
     "metadata": {},
     "output_type": "execute_result"
    }
   ],
   "source": [
    "operation MyExpZ(theta : Double, qubits : Qubit[]) : Unit {\n",
    "    ExpZUtil(theta , qubits, Rz(-2.0 * theta, _));\n",
    "}"
   ]
  },
  {
   "cell_type": "code",
   "execution_count": 70,
   "id": "e22893da",
   "metadata": {},
   "outputs": [
    {
     "data": {
      "application/x-qsharp-data": "[\"ApplyMyExp\"]",
      "text/html": [
       "<ul><li>ApplyMyExp</li></ul>"
      ],
      "text/plain": [
       "ApplyMyExp"
      ]
     },
     "execution_count": 70,
     "metadata": {},
     "output_type": "execute_result"
    }
   ],
   "source": [
    "open Microsoft.Quantum.Intrinsic;\n",
    "open Microsoft.Quantum.Measurement;\n",
    "\n",
    "operation ApplyMyExp() : Result[] {\n",
    "    use qubits = Qubit[5];\n",
    "    let theta = -3.4;\n",
    "    MyExpZ(theta, qubits);\n",
    "    return MultiM(qubits);\n",
    "}"
   ]
  },
  {
   "cell_type": "code",
   "execution_count": 76,
   "id": "13612dcc",
   "metadata": {},
   "outputs": [
    {
     "data": {
      "application/x-qsharp-data": "[0,0,0,0,0]",
      "text/html": [
       "<ul><li>Zero</li><li>Zero</li><li>Zero</li><li>Zero</li><li>Zero</li></ul>"
      ],
      "text/plain": [
       "Zero, Zero, Zero, Zero, Zero"
      ]
     },
     "execution_count": 76,
     "metadata": {},
     "output_type": "execute_result"
    }
   ],
   "source": [
    "%simulate ApplyMyExp"
   ]
  },
  {
   "cell_type": "code",
   "execution_count": 6,
   "id": "c0971cb5",
   "metadata": {},
   "outputs": [
    {
     "data": {
      "application/x-qsharp-data": "[\"MyExpZ\",\"MyExpZUtil\",\"SpreadZ\",\"TestMyExpZ\"]",
      "text/html": [
       "<ul><li>MyExpZ</li><li>MyExpZUtil</li><li>SpreadZ</li><li>TestMyExpZ</li></ul>"
      ],
      "text/plain": [
       "MyExpZ, MyExpZUtil, SpreadZ, TestMyExpZ"
      ]
     },
     "execution_count": 6,
     "metadata": {},
     "output_type": "execute_result"
    }
   ],
   "source": [
    "open Microsoft.Quantum.Intrinsic;\n",
    "open Microsoft.Quantum.Math;\n",
    "open Microsoft.Quantum.Arrays;\n",
    "open Microsoft.Quantum.Diagnostics;\n",
    "\n",
    "operation MyExpZ(theta : Double, qubits : Qubit[]) : Unit is Adj + Ctl {\n",
    "    body (...) {\n",
    "            MyExpZUtil(theta , qubits, Rz(-2.0 * theta, _));\n",
    "        }\n",
    "    adjoint(...) {\n",
    "        MyExpZ(-theta, qubits);\n",
    "    }\n",
    "}\n",
    "\n",
    "internal operation MyExpZUtil(\n",
    "    theta : Double, qubits : Qubit[], rotation : ((Qubit) => Unit is Adj + Ctl)\n",
    ") : Unit is Ctl {\n",
    "    within {\n",
    "        SpreadZ(qubits[0], qubits[ 1 .. Length(qubits) - 1]);\n",
    "    }\n",
    "    apply {\n",
    "        rotation(qubits[0]);\n",
    "    }\n",
    "}\n",
    "\n",
    "internal operation SpreadZ(from : Qubit, to : Qubit[]) : Unit is Adj {\n",
    "    if (Length(to) > 0) {\n",
    "        CNOT(to[0], from);\n",
    "        if (Length(to) > 1) {\n",
    "            let half = Length(to) / 2;\n",
    "            SpreadZ(to[0], to[half + 1 .. Length(to) - 1]);\n",
    "            SpreadZ(from, to[1 .. half]);\n",
    "        }\n",
    "    }\n",
    "}\n",
    "\n",
    "@EntryPoint()\n",
    "operation TestMyExpZ() : Result {\n",
    "    let numQubits = 4;\n",
    "    use qubits = Qubit[numQubits];\n",
    "    let pauliArr = ConstantArray<Pauli>(numQubits, PauliZ);\n",
    "    let theta = PI() / 2.0;\n",
    "    let (idx0, idx1) = (0, numQubits - 1);\n",
    "    if idx0 == idx1 { fail \"The indices must be different\"; }\n",
    "    within {\n",
    "        H(qubits[idx0]);\n",
    "    }\n",
    "    apply {\n",
    "        within {\n",
    "            CNOT(qubits[idx0], qubits[idx1]);\n",
    "        }\n",
    "        apply {\n",
    "            MyExpZ(theta, qubits);\n",
    "        }\n",
    "    }\n",
    "    let res = M(qubits[idx0]);\n",
    "    // let expected = Zero;\n",
    "    // AssertQubit(expected, qubits[idx0]);\n",
    "    ResetAll(qubits);\n",
    "    return res;\n",
    "}"
   ]
  },
  {
   "cell_type": "code",
   "execution_count": null,
   "id": "0cf3d40a",
   "metadata": {},
   "outputs": [],
   "source": [
    "%"
   ]
  }
 ],
 "metadata": {
  "kernelspec": {
   "display_name": "Q#",
   "language": "qsharp",
   "name": "iqsharp"
  },
  "language_info": {
   "file_extension": ".qs",
   "mimetype": "text/x-qsharp",
   "name": "qsharp",
   "version": "0.24"
  }
 },
 "nbformat": 4,
 "nbformat_minor": 5
}
