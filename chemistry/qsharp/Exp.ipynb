{
 "cells": [
  {
   "cell_type": "markdown",
   "id": "193a10e9",
   "metadata": {},
   "source": [
    "# Understanding the `Exp` Operation\n",
    "\n",
    "The `Exp` operation calls the internal [`SpreadZ`](https://github.com/microsoft/qsharp-runtime/blob/70c881d8b93f290bca6145fb5fda28e5dbc57827/src/Simulation/TargetDefinitions/Decompositions/Utils.qs#L7-L16) operation:"
   ]
  },
  {
   "cell_type": "code",
   "execution_count": 1,
   "id": "a58e0715",
   "metadata": {},
   "outputs": [
    {
     "data": {
      "application/x-qsharp-data": "[\"SpreadZ\",\"ApplySpreadZ\"]",
      "text/html": [
       "<ul><li>SpreadZ</li><li>ApplySpreadZ</li></ul>"
      ],
      "text/plain": [
       "SpreadZ, ApplySpreadZ"
      ]
     },
     "execution_count": 1,
     "metadata": {},
     "output_type": "execute_result"
    }
   ],
   "source": [
    "operation SpreadZ(from : Qubit, to : Qubit[]) : Unit is Adj {\n",
    "    if (Length(to) > 0) {\n",
    "        CNOT(to[0], from);\n",
    "        if (Length(to) > 1) {\n",
    "            let half = Length(to) / 2;\n",
    "            SpreadZ(to[0], to[half + 1 .. Length(to) - 1]);\n",
    "            SpreadZ(from, to[1 .. half]);\n",
    "        }\n",
    "    }\n",
    "}\n",
    "\n",
    "\n",
    "operation ApplySpreadZ(n : Int) : Unit {\n",
    "    use (fromQubit, toReg) = (Qubit(), Qubit[n]);\n",
    "    SpreadZ(fromQubit, toReg);\n",
    "}"
   ]
  },
  {
   "cell_type": "code",
   "execution_count": 3,
   "id": "859f1307",
   "metadata": {},
   "outputs": [
    {
     "data": {
      "application/x-qsharp-data": "{\"Html\":\"<div id='execution-path-container-6cd5bad5-3e3b-4e0d-9fc9-a1dffcb4722d' />\"}",
      "text/html": [
       "<div id='execution-path-container-6cd5bad5-3e3b-4e0d-9fc9-a1dffcb4722d' />"
      ],
      "text/plain": [
       "Microsoft.Quantum.IQSharp.Jupyter.DisplayableHtmlElement"
      ]
     },
     "metadata": {},
     "output_type": "display_data"
    }
   ],
   "source": [
    "%trace ApplySpreadZ n=3"
   ]
  },
  {
   "cell_type": "code",
   "execution_count": 4,
   "id": "44c71797",
   "metadata": {},
   "outputs": [
    {
     "data": {
      "application/x-qsharp-data": "[\"CorrectSpreadZ\",\"ApplyCorrectSpreadZ\"]",
      "text/html": [
       "<ul><li>CorrectSpreadZ</li><li>ApplyCorrectSpreadZ</li></ul>"
      ],
      "text/plain": [
       "CorrectSpreadZ, ApplyCorrectSpreadZ"
      ]
     },
     "execution_count": 4,
     "metadata": {},
     "output_type": "execute_result"
    }
   ],
   "source": [
    "operation CorrectSpreadZ(from : Qubit, to : Qubit[]) : Unit is Adj {\n",
    "    if (Length(to) > 0) {\n",
    "        if (Length(to) > 1) {\n",
    "            let half = Length(to) / 2;\n",
    "            SpreadZ(to[0], to[half + 1 .. Length(to) - 1]);\n",
    "            SpreadZ(from, to[1 .. half]);\n",
    "        }\n",
    "        CNOT(to[0], from);\n",
    "    }\n",
    "}\n",
    "\n",
    "operation ApplyCorrectSpreadZ(n : Int) : Unit {\n",
    "    use (fromQubit, toReg) = (Qubit(), Qubit[n]);\n",
    "    CorrectSpreadZ(fromQubit, toReg);\n",
    "}"
   ]
  },
  {
   "cell_type": "code",
   "execution_count": 5,
   "id": "da1aa265",
   "metadata": {},
   "outputs": [
    {
     "data": {
      "application/x-qsharp-data": "{\"Html\":\"<div id='execution-path-container-f0f94afb-d12b-40f6-9221-b2257aef197e' />\"}",
      "text/html": [
       "<div id='execution-path-container-f0f94afb-d12b-40f6-9221-b2257aef197e' />"
      ],
      "text/plain": [
       "Microsoft.Quantum.IQSharp.Jupyter.DisplayableHtmlElement"
      ]
     },
     "metadata": {},
     "output_type": "display_data"
    }
   ],
   "source": [
    "%trace ApplyCorrectSpreadZ n=3"
   ]
  },
  {
   "cell_type": "markdown",
   "id": "7c1f376d",
   "metadata": {},
   "source": [
    "https://github.com/microsoft/qsharp-runtime/blob/2b82379d284a194a7b613641caca0e550c2db30d/src/Simulation/TargetDefinitions/Decompositions/Utils.qs#L18-L43"
   ]
  },
  {
   "cell_type": "code",
   "execution_count": 10,
   "id": "addb85c5",
   "metadata": {},
   "outputs": [
    {
     "data": {
      "application/x-qsharp-data": "[\"MapPauli\"]",
      "text/html": [
       "<ul><li>MapPauli</li></ul>"
      ],
      "text/plain": [
       "MapPauli"
      ]
     },
     "execution_count": 10,
     "metadata": {},
     "output_type": "execute_result"
    }
   ],
   "source": [
    "operation MapPauli(qubit : Qubit, from : Pauli, to : Pauli) : Unit is Adj {\n",
    "    if (from == to) {\n",
    "    }\n",
    "    elif ((from == PauliZ and to == PauliX) or (from == PauliX and to == PauliZ)) {\n",
    "        H(qubit);\n",
    "    }\n",
    "    elif (from == PauliZ and to == PauliY) {\n",
    "        H(qubit);\n",
    "        S(qubit);\n",
    "        H(qubit);\n",
    "    }\n",
    "    elif (from == PauliY and to == PauliZ) {\n",
    "        H(qubit);\n",
    "        Adjoint S(qubit);\n",
    "        H(qubit);\n",
    "    }\n",
    "    elif (from == PauliY and to == PauliX) {\n",
    "        S(qubit);\n",
    "    }\n",
    "    elif (from == PauliX and to == PauliY) {\n",
    "        Adjoint S(qubit);\n",
    "    }\n",
    "    else {\n",
    "        fail \"Unsupported input\";\n",
    "    }\n",
    "}"
   ]
  },
  {
   "cell_type": "code",
   "execution_count": null,
   "id": "0cf3d40a",
   "metadata": {},
   "outputs": [],
   "source": []
  }
 ],
 "metadata": {
  "kernelspec": {
   "display_name": "Q#",
   "language": "qsharp",
   "name": "iqsharp"
  },
  "language_info": {
   "file_extension": ".qs",
   "mimetype": "text/x-qsharp",
   "name": "qsharp",
   "version": "0.24"
  }
 },
 "nbformat": 4,
 "nbformat_minor": 5
}
