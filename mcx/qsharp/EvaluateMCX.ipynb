{
 "cells": [
  {
   "cell_type": "markdown",
   "id": "cd5e31aa-1116-4ba6-9b1a-1d67064e4c14",
   "metadata": {},
   "source": [
    "# Evaluate Q# Multi-Control X Gate\n",
    "\n",
    "This IPython Jupyter notebook estimates the resources required for the Q# code in `MultiControlX.qs`."
   ]
  },
  {
   "cell_type": "code",
   "execution_count": 1,
   "id": "f20b8365-3eba-4ca0-8ae3-9c3e214938dd",
   "metadata": {},
   "outputs": [
    {
     "name": "stdout",
     "output_type": "stream",
     "text": [
      "Preparing Q# environment...\n",
      "."
     ]
    }
   ],
   "source": [
    "import qsharp"
   ]
  },
  {
   "cell_type": "code",
   "execution_count": 2,
   "id": "9bfbf567",
   "metadata": {},
   "outputs": [],
   "source": [
    "import ClassiqChallenge  # pyright: ignore[reportMissingImports]"
   ]
  },
  {
   "cell_type": "code",
   "execution_count": 3,
   "id": "f3e816da",
   "metadata": {},
   "outputs": [
    {
     "data": {
      "text/plain": [
       "{'CNOT': 250,\n",
       " 'QubitClifford': 50,\n",
       " 'R': 0,\n",
       " 'Measure': 1,\n",
       " 'T': 175,\n",
       " 'Depth': 113,\n",
       " 'Width': 27,\n",
       " 'QubitCount': 27,\n",
       " 'BorrowedWidth': 0}"
      ]
     },
     "execution_count": 3,
     "metadata": {},
     "output_type": "execute_result"
    }
   ],
   "source": [
    "ClassiqChallenge.ApplyMultiControlledX.estimate_resources(initControl=False, initTarget=False)"
   ]
  },
  {
   "cell_type": "markdown",
   "id": "83d49205",
   "metadata": {},
   "source": [
    "The above can also be executed in the terminal with dotnet:"
   ]
  },
  {
   "cell_type": "code",
   "execution_count": 4,
   "id": "29873917",
   "metadata": {},
   "outputs": [
    {
     "name": "stdout",
     "output_type": "stream",
     "text": [
      "\u001b[?1h\u001b=\u001b[?1h\u001b=\u001b[?1h\u001b=Metric         \tSum            \tMax            \n",
      "CNOT           \t250\t250\n",
      "QubitClifford  \t78\t78\n",
      "R              \t0\t0\n",
      "Measure        \t1\t1\n",
      "T              \t175\t175\n",
      "Depth          \t113\t113\n",
      "Width          \t27\t27\n",
      "QubitCount     \t27\t27\n",
      "BorrowedWidth  \t0\t0\n",
      "\u001b[?1h\u001b="
     ]
    }
   ],
   "source": [
    "!dotnet run -s ResourcesEstimator --init-control true --init-target false"
   ]
  },
  {
   "cell_type": "markdown",
   "id": "0bbc3811",
   "metadata": {},
   "source": [
    "The number of qubits required for the operation in the naive implementation is 27, which exceeds the task's 20 qubits limit.\n",
    "\n",
    "For more information about these metrics, see:\n",
    "https://docs.microsoft.com/en-us/azure/quantum/machines/resources-estimator#metrics-reported"
   ]
  }
 ],
 "metadata": {
  "interpreter": {
   "hash": "6dc1d14cd6bf9bb7160cd97a5453ebdf81dda94937cf28f76f3ac59cdb0c7906"
  },
  "kernelspec": {
   "display_name": "Python 3.10.1 ('venv': venv)",
   "language": "python",
   "name": "python3"
  },
  "language_info": {
   "codemirror_mode": {
    "name": "ipython",
    "version": 3
   },
   "file_extension": ".py",
   "mimetype": "text/x-python",
   "name": "python",
   "nbconvert_exporter": "python",
   "pygments_lexer": "ipython3",
   "version": "3.10.1"
  }
 },
 "nbformat": 4,
 "nbformat_minor": 5
}
